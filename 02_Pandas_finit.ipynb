{
  "cells": [
    {
      "cell_type": "markdown",
      "metadata": {
        "id": "view-in-github",
        "colab_type": "text"
      },
      "source": [
        "<a href=\"https://colab.research.google.com/github/MasWap/Data_science/blob/main/02_Pandas_finit.ipynb\" target=\"_parent\"><img src=\"https://colab.research.google.com/assets/colab-badge.svg\" alt=\"Open In Colab\"/></a>"
      ]
    },
    {
      "cell_type": "markdown",
      "metadata": {
        "id": "IySptRf-2WA6"
      },
      "source": [
        "# Panda Avancé\n",
        "\n",
        "Dans cet exercice, nous allons explorer les opérations ensemblistes que nous pouvons appliquer  sur les dataframes\n",
        "* La projection et la restriction\n",
        "* Les opérations ensemblistes (union, différence, intersection)\n",
        "* Le produit cartésien\n",
        "* Les jointures\n",
        "* L'agrégation"
      ]
    },
    {
      "cell_type": "code",
      "execution_count": null,
      "metadata": {
        "colab": {
          "base_uri": "https://localhost:8080/",
          "height": 206
        },
        "id": "YjeEI_Yu2WA7",
        "outputId": "3181aa76-811e-45b0-b93d-590c7766e722"
      },
      "outputs": [
        {
          "output_type": "execute_result",
          "data": {
            "text/plain": [
              "         etat  population    area\n",
              "0  California    38332521  423967\n",
              "1       Texas    26448193  695662\n",
              "2    New York    19651127  141297\n",
              "3     Florida    19552860  170312\n",
              "4    Illinois    12882135  149995"
            ],
            "text/html": [
              "\n",
              "  <div id=\"df-b813bf52-4db0-4225-bf52-3a87484cf53c\" class=\"colab-df-container\">\n",
              "    <div>\n",
              "<style scoped>\n",
              "    .dataframe tbody tr th:only-of-type {\n",
              "        vertical-align: middle;\n",
              "    }\n",
              "\n",
              "    .dataframe tbody tr th {\n",
              "        vertical-align: top;\n",
              "    }\n",
              "\n",
              "    .dataframe thead th {\n",
              "        text-align: right;\n",
              "    }\n",
              "</style>\n",
              "<table border=\"1\" class=\"dataframe\">\n",
              "  <thead>\n",
              "    <tr style=\"text-align: right;\">\n",
              "      <th></th>\n",
              "      <th>etat</th>\n",
              "      <th>population</th>\n",
              "      <th>area</th>\n",
              "    </tr>\n",
              "  </thead>\n",
              "  <tbody>\n",
              "    <tr>\n",
              "      <th>0</th>\n",
              "      <td>California</td>\n",
              "      <td>38332521</td>\n",
              "      <td>423967</td>\n",
              "    </tr>\n",
              "    <tr>\n",
              "      <th>1</th>\n",
              "      <td>Texas</td>\n",
              "      <td>26448193</td>\n",
              "      <td>695662</td>\n",
              "    </tr>\n",
              "    <tr>\n",
              "      <th>2</th>\n",
              "      <td>New York</td>\n",
              "      <td>19651127</td>\n",
              "      <td>141297</td>\n",
              "    </tr>\n",
              "    <tr>\n",
              "      <th>3</th>\n",
              "      <td>Florida</td>\n",
              "      <td>19552860</td>\n",
              "      <td>170312</td>\n",
              "    </tr>\n",
              "    <tr>\n",
              "      <th>4</th>\n",
              "      <td>Illinois</td>\n",
              "      <td>12882135</td>\n",
              "      <td>149995</td>\n",
              "    </tr>\n",
              "  </tbody>\n",
              "</table>\n",
              "</div>\n",
              "    <div class=\"colab-df-buttons\">\n",
              "\n",
              "  <div class=\"colab-df-container\">\n",
              "    <button class=\"colab-df-convert\" onclick=\"convertToInteractive('df-b813bf52-4db0-4225-bf52-3a87484cf53c')\"\n",
              "            title=\"Convert this dataframe to an interactive table.\"\n",
              "            style=\"display:none;\">\n",
              "\n",
              "  <svg xmlns=\"http://www.w3.org/2000/svg\" height=\"24px\" viewBox=\"0 -960 960 960\">\n",
              "    <path d=\"M120-120v-720h720v720H120Zm60-500h600v-160H180v160Zm220 220h160v-160H400v160Zm0 220h160v-160H400v160ZM180-400h160v-160H180v160Zm440 0h160v-160H620v160ZM180-180h160v-160H180v160Zm440 0h160v-160H620v160Z\"/>\n",
              "  </svg>\n",
              "    </button>\n",
              "\n",
              "  <style>\n",
              "    .colab-df-container {\n",
              "      display:flex;\n",
              "      gap: 12px;\n",
              "    }\n",
              "\n",
              "    .colab-df-convert {\n",
              "      background-color: #E8F0FE;\n",
              "      border: none;\n",
              "      border-radius: 50%;\n",
              "      cursor: pointer;\n",
              "      display: none;\n",
              "      fill: #1967D2;\n",
              "      height: 32px;\n",
              "      padding: 0 0 0 0;\n",
              "      width: 32px;\n",
              "    }\n",
              "\n",
              "    .colab-df-convert:hover {\n",
              "      background-color: #E2EBFA;\n",
              "      box-shadow: 0px 1px 2px rgba(60, 64, 67, 0.3), 0px 1px 3px 1px rgba(60, 64, 67, 0.15);\n",
              "      fill: #174EA6;\n",
              "    }\n",
              "\n",
              "    .colab-df-buttons div {\n",
              "      margin-bottom: 4px;\n",
              "    }\n",
              "\n",
              "    [theme=dark] .colab-df-convert {\n",
              "      background-color: #3B4455;\n",
              "      fill: #D2E3FC;\n",
              "    }\n",
              "\n",
              "    [theme=dark] .colab-df-convert:hover {\n",
              "      background-color: #434B5C;\n",
              "      box-shadow: 0px 1px 3px 1px rgba(0, 0, 0, 0.15);\n",
              "      filter: drop-shadow(0px 1px 2px rgba(0, 0, 0, 0.3));\n",
              "      fill: #FFFFFF;\n",
              "    }\n",
              "  </style>\n",
              "\n",
              "    <script>\n",
              "      const buttonEl =\n",
              "        document.querySelector('#df-b813bf52-4db0-4225-bf52-3a87484cf53c button.colab-df-convert');\n",
              "      buttonEl.style.display =\n",
              "        google.colab.kernel.accessAllowed ? 'block' : 'none';\n",
              "\n",
              "      async function convertToInteractive(key) {\n",
              "        const element = document.querySelector('#df-b813bf52-4db0-4225-bf52-3a87484cf53c');\n",
              "        const dataTable =\n",
              "          await google.colab.kernel.invokeFunction('convertToInteractive',\n",
              "                                                    [key], {});\n",
              "        if (!dataTable) return;\n",
              "\n",
              "        const docLinkHtml = 'Like what you see? Visit the ' +\n",
              "          '<a target=\"_blank\" href=https://colab.research.google.com/notebooks/data_table.ipynb>data table notebook</a>'\n",
              "          + ' to learn more about interactive tables.';\n",
              "        element.innerHTML = '';\n",
              "        dataTable['output_type'] = 'display_data';\n",
              "        await google.colab.output.renderOutput(dataTable, element);\n",
              "        const docLink = document.createElement('div');\n",
              "        docLink.innerHTML = docLinkHtml;\n",
              "        element.appendChild(docLink);\n",
              "      }\n",
              "    </script>\n",
              "  </div>\n",
              "\n",
              "\n",
              "<div id=\"df-52d9385d-32fc-42ec-aea6-cfe437ec0500\">\n",
              "  <button class=\"colab-df-quickchart\" onclick=\"quickchart('df-52d9385d-32fc-42ec-aea6-cfe437ec0500')\"\n",
              "            title=\"Suggest charts\"\n",
              "            style=\"display:none;\">\n",
              "\n",
              "<svg xmlns=\"http://www.w3.org/2000/svg\" height=\"24px\"viewBox=\"0 0 24 24\"\n",
              "     width=\"24px\">\n",
              "    <g>\n",
              "        <path d=\"M19 3H5c-1.1 0-2 .9-2 2v14c0 1.1.9 2 2 2h14c1.1 0 2-.9 2-2V5c0-1.1-.9-2-2-2zM9 17H7v-7h2v7zm4 0h-2V7h2v10zm4 0h-2v-4h2v4z\"/>\n",
              "    </g>\n",
              "</svg>\n",
              "  </button>\n",
              "\n",
              "<style>\n",
              "  .colab-df-quickchart {\n",
              "      --bg-color: #E8F0FE;\n",
              "      --fill-color: #1967D2;\n",
              "      --hover-bg-color: #E2EBFA;\n",
              "      --hover-fill-color: #174EA6;\n",
              "      --disabled-fill-color: #AAA;\n",
              "      --disabled-bg-color: #DDD;\n",
              "  }\n",
              "\n",
              "  [theme=dark] .colab-df-quickchart {\n",
              "      --bg-color: #3B4455;\n",
              "      --fill-color: #D2E3FC;\n",
              "      --hover-bg-color: #434B5C;\n",
              "      --hover-fill-color: #FFFFFF;\n",
              "      --disabled-bg-color: #3B4455;\n",
              "      --disabled-fill-color: #666;\n",
              "  }\n",
              "\n",
              "  .colab-df-quickchart {\n",
              "    background-color: var(--bg-color);\n",
              "    border: none;\n",
              "    border-radius: 50%;\n",
              "    cursor: pointer;\n",
              "    display: none;\n",
              "    fill: var(--fill-color);\n",
              "    height: 32px;\n",
              "    padding: 0;\n",
              "    width: 32px;\n",
              "  }\n",
              "\n",
              "  .colab-df-quickchart:hover {\n",
              "    background-color: var(--hover-bg-color);\n",
              "    box-shadow: 0 1px 2px rgba(60, 64, 67, 0.3), 0 1px 3px 1px rgba(60, 64, 67, 0.15);\n",
              "    fill: var(--button-hover-fill-color);\n",
              "  }\n",
              "\n",
              "  .colab-df-quickchart-complete:disabled,\n",
              "  .colab-df-quickchart-complete:disabled:hover {\n",
              "    background-color: var(--disabled-bg-color);\n",
              "    fill: var(--disabled-fill-color);\n",
              "    box-shadow: none;\n",
              "  }\n",
              "\n",
              "  .colab-df-spinner {\n",
              "    border: 2px solid var(--fill-color);\n",
              "    border-color: transparent;\n",
              "    border-bottom-color: var(--fill-color);\n",
              "    animation:\n",
              "      spin 1s steps(1) infinite;\n",
              "  }\n",
              "\n",
              "  @keyframes spin {\n",
              "    0% {\n",
              "      border-color: transparent;\n",
              "      border-bottom-color: var(--fill-color);\n",
              "      border-left-color: var(--fill-color);\n",
              "    }\n",
              "    20% {\n",
              "      border-color: transparent;\n",
              "      border-left-color: var(--fill-color);\n",
              "      border-top-color: var(--fill-color);\n",
              "    }\n",
              "    30% {\n",
              "      border-color: transparent;\n",
              "      border-left-color: var(--fill-color);\n",
              "      border-top-color: var(--fill-color);\n",
              "      border-right-color: var(--fill-color);\n",
              "    }\n",
              "    40% {\n",
              "      border-color: transparent;\n",
              "      border-right-color: var(--fill-color);\n",
              "      border-top-color: var(--fill-color);\n",
              "    }\n",
              "    60% {\n",
              "      border-color: transparent;\n",
              "      border-right-color: var(--fill-color);\n",
              "    }\n",
              "    80% {\n",
              "      border-color: transparent;\n",
              "      border-right-color: var(--fill-color);\n",
              "      border-bottom-color: var(--fill-color);\n",
              "    }\n",
              "    90% {\n",
              "      border-color: transparent;\n",
              "      border-bottom-color: var(--fill-color);\n",
              "    }\n",
              "  }\n",
              "</style>\n",
              "\n",
              "  <script>\n",
              "    async function quickchart(key) {\n",
              "      const quickchartButtonEl =\n",
              "        document.querySelector('#' + key + ' button');\n",
              "      quickchartButtonEl.disabled = true;  // To prevent multiple clicks.\n",
              "      quickchartButtonEl.classList.add('colab-df-spinner');\n",
              "      try {\n",
              "        const charts = await google.colab.kernel.invokeFunction(\n",
              "            'suggestCharts', [key], {});\n",
              "      } catch (error) {\n",
              "        console.error('Error during call to suggestCharts:', error);\n",
              "      }\n",
              "      quickchartButtonEl.classList.remove('colab-df-spinner');\n",
              "      quickchartButtonEl.classList.add('colab-df-quickchart-complete');\n",
              "    }\n",
              "    (() => {\n",
              "      let quickchartButtonEl =\n",
              "        document.querySelector('#df-52d9385d-32fc-42ec-aea6-cfe437ec0500 button');\n",
              "      quickchartButtonEl.style.display =\n",
              "        google.colab.kernel.accessAllowed ? 'block' : 'none';\n",
              "    })();\n",
              "  </script>\n",
              "</div>\n",
              "    </div>\n",
              "  </div>\n"
            ]
          },
          "metadata": {},
          "execution_count": 1
        }
      ],
      "source": [
        "# Importer le fichier pays.csv\n",
        "import pandas as pd\n",
        "data = pd.read_csv(\"pays.csv\", sep=\";\")\n",
        "data.head()"
      ]
    },
    {
      "cell_type": "markdown",
      "metadata": {
        "id": "rsksZ9032WA8"
      },
      "source": [
        "## Exercice 1\n",
        "\n",
        "### 1.1.  La projection et la restriction\n",
        "\n",
        "Commençons par 2 opérations de l'algèbre relationnelle :\n",
        "* la projection est une sélection de certaines colonnes.\n",
        "* la restriction est une sélection de certaines lignes.\n",
        "\n",
        "\n"
      ]
    },
    {
      "cell_type": "code",
      "execution_count": null,
      "metadata": {
        "id": "N3_MyjUz2WA8"
      },
      "outputs": [],
      "source": [
        "print(data)"
      ]
    },
    {
      "cell_type": "code",
      "execution_count": null,
      "metadata": {
        "id": "13xKSSqK2WA8"
      },
      "outputs": [],
      "source": [
        "# Faire une projection sur la colonne area\n",
        "data[\"area\"]"
      ]
    },
    {
      "cell_type": "code",
      "execution_count": null,
      "metadata": {
        "id": "0zWXzqT42WA8"
      },
      "outputs": [],
      "source": [
        "# Faire une restriction sur la ligne =1\n",
        "data.iloc[1]"
      ]
    },
    {
      "cell_type": "markdown",
      "metadata": {
        "id": "uBnVKedo2WA8"
      },
      "source": [
        "### 1.2. L'union\n",
        "\n",
        "L'union se fait grâce à la fonction pd.concat\n",
        "\n",
        "Unir deux tableaux, c'est créer un troisième tableau qui contient toutes les lignes du premier et du second.\n",
        "\n",
        "\n"
      ]
    },
    {
      "cell_type": "code",
      "execution_count": null,
      "metadata": {
        "id": "j010QhF_2WA8"
      },
      "outputs": [],
      "source": [
        "# Importer le fichier pays2 et le concaténer avec pays1\n",
        "data2 = pd.read_csv(\"pays2.csv\", sep=\";\")\n",
        "pd.concat([data, data2])"
      ]
    },
    {
      "cell_type": "markdown",
      "metadata": {
        "id": "2j0m-A5_2WA8"
      },
      "source": [
        "Par défaut,  pd.concat  assemble ses arguments \"verticalement\".  Pour changer ce comportement, on peut utiliser l'argument  axis.\n",
        "\n",
        "<span style=\"color:blue\">QUESTION : que pensez vous des indices ?</span>\n",
        "<span style=\"color:red\">XXXXXXXXX</span>\n"
      ]
    },
    {
      "cell_type": "markdown",
      "metadata": {
        "id": "8xdryUxS2WA9"
      },
      "source": [
        "### 1.3. La jointure\n",
        "\n",
        "#### 1.3.1 Principe\n",
        "\n",
        "\n",
        "Une autre fonction très utile pour manipuler les Dataframe est  pd.merge qui effectue une jointure.\n",
        "Une jointure, c'est assembler les informations d'un tableau A avec celles d'un tableau B selon un critère appelé <span style=\"color:blue\">condition de jointure</span>.\n",
        "Ce critère est composée de une ou plusieurs colonnes <span style=\"color:blue\">communes</span> à A et B.\n",
        "\n",
        "Un petit exemple. Imaginons que nous disposons de deux Dataframes :\n",
        "* df1  contenant une liste d'employés et le nom des départements dans lequel ils travaillent,\n",
        "* df2  contenant la même liste d'employés et leurs dates d'entrée dans l'entreprise.\n",
        "\n",
        "La fonction  _pd.merge_  permet de transformer ces deux Dataframes en un seul, contenant les deux informations.\n"
      ]
    },
    {
      "cell_type": "code",
      "execution_count": null,
      "metadata": {
        "id": "x4H6DtbL2WA9"
      },
      "outputs": [],
      "source": [
        "df1 = pd.DataFrame({'employee': ['Bob', 'Jake', 'Lisa', 'Sue'],\n",
        "                    'department': ['Accounting', 'Engineering', 'Engineering', 'HR']})\n",
        "\n",
        "df1\n"
      ]
    },
    {
      "cell_type": "code",
      "execution_count": null,
      "metadata": {
        "id": "yTsq58RU2WA9"
      },
      "outputs": [],
      "source": [
        "df2 = pd.DataFrame({'employee': ['Lisa', 'Bob', 'Jake', 'Sue'],\n",
        "                    'date': [2004, 2008, 2012, 2014]})\n",
        "df2"
      ]
    },
    {
      "cell_type": "code",
      "execution_count": null,
      "metadata": {
        "id": "Z6KkaG-g2WA9"
      },
      "outputs": [],
      "source": [
        "df3 = pd.merge(df1, df2)\n",
        "df3"
      ]
    },
    {
      "cell_type": "markdown",
      "metadata": {
        "id": "8zvCJ5sP2WA9"
      },
      "source": [
        "La fonction  pd.merge  a automatiquement reconnu que la colonne employee était commune aux deux Dataframes, et l'a utilisée comme condition de jointure.\n",
        "Mais si ces 2 colonnes avaient eu des noms différents (par exemple employee sur df1 et emp_name sur df2),\n",
        " alors il aurait fallu écrire ceci : df3 = pd.merge(df1, df2, left_on= \"employee\", right_on= \"emp_name\")"
      ]
    },
    {
      "cell_type": "markdown",
      "metadata": {
        "id": "-KHbJ7dz2WA9"
      },
      "source": [
        "#### 1.3.2 Les cardinalités\n",
        "\n",
        "Il y a 3 cardinalités différentes :\n",
        "* Un-à-un  : une ligne  du tableau A correspond à une unique ligne du tableau B  et une ligne de B correspond à une unique ligne du tableau A.\n",
        "* Un-à-plusieurs :  une ligne quelconque de A correspond à une ligne de B,  mais une ligne de B peut correspondre à plusieurs lignes de A.\n",
        "* Plusieurs-à-plusieurs (many-to-many) :  une ligne de A peut correspondre à plusieurs lignes de B, et une ligne de B peut correspondre à plusieurs lignes de A.\n",
        "\n",
        "Selon la cardinalité, le comportement de la jointure ne sera pas le même\n"
      ]
    },
    {
      "cell_type": "markdown",
      "metadata": {
        "id": "cHEceMcD2WA9"
      },
      "source": [
        "#### Cardinalité un-à-un\n",
        "L'exemple que nous avons pris tout à l'heure correspond à une cardinalité un-à-un.\n",
        "En effet, un employé ne travaille que dans un seul département, et n'a qu'une seule année d'embauche."
      ]
    },
    {
      "cell_type": "markdown",
      "metadata": {
        "id": "yzUeqLd_2WA9"
      },
      "source": [
        "#### Cardinalité un-à-plusieurs (ou plusieurs-à-un)\n",
        "Chaque département a désormais un un chef.\n",
        "Un employé n'a qu'un seul chef, mais un chef peut diriger plusieurs empoyés.\n",
        "\n"
      ]
    },
    {
      "cell_type": "code",
      "execution_count": null,
      "metadata": {
        "id": "sy-vb8Vl2WA9"
      },
      "outputs": [],
      "source": [
        "df4 = pd.DataFrame({'department': ['Accounting', 'Engineering', 'HR'],\n",
        "                    'supervisor': ['Carly', 'Guido', 'Steve']})\n",
        "pd.merge(df3, df4)\n",
        "\n"
      ]
    },
    {
      "cell_type": "markdown",
      "metadata": {
        "id": "ISH_Da532WA-"
      },
      "source": [
        "<span style=\"color:blue\"> QUESTION : Que remarquez vous dans la colonne supervisor ? </span>\n",
        "<span style=\"color:red\">XXXXXXXXX</span>\n"
      ]
    },
    {
      "cell_type": "markdown",
      "metadata": {
        "id": "RWREvozD2WA-"
      },
      "source": [
        "#### Cardinalité plusieurs-à-plusieurs\n",
        "\n",
        "df5 contient les compétences nécessaires pour travailler dans chaque département :\n",
        "Un employé a besoin de plusieurs compétences, et une compétence peut être partagée par plusieurs employés.\n"
      ]
    },
    {
      "cell_type": "code",
      "execution_count": null,
      "metadata": {
        "id": "XenW4Chf2WA-"
      },
      "outputs": [],
      "source": [
        "\n",
        "df5 = pd.DataFrame({'department': ['Accounting', 'Accounting',\n",
        "                              'Engineering', 'Engineering', 'HR', 'HR'],\n",
        "                    'competence': ['math', 'spreadsheets', 'coding', 'linux',\n",
        "                               'spreadsheets', 'organization']})\n",
        "\n",
        "pd.merge(df1, df5)\n",
        "\n"
      ]
    },
    {
      "cell_type": "markdown",
      "metadata": {
        "id": "8qLZP8Xg2WA-"
      },
      "source": [
        "<span style=\"color:blue\"> QUESTION : Comment interprétez vous les nouvelles lignes. </span>\n",
        "<span style=\"color:red\">XXXXXXXXX</span>\n",
        "\n"
      ]
    },
    {
      "cell_type": "markdown",
      "metadata": {
        "id": "QfwgX0wj2WA-"
      },
      "source": [
        "### 1.4. L'agrégation\n",
        "\n",
        "Pandas  permet d'accomplir une agrégation par groupe, semblable à ce qu'on peut obtenir  en utilisant le mot clé  GROUP BY en SQL.\n"
      ]
    },
    {
      "cell_type": "code",
      "execution_count": null,
      "metadata": {
        "id": "QqPVRyJB2WA-"
      },
      "outputs": [],
      "source": [
        "df = pd.DataFrame({'key': ['A', 'B', 'C', 'A', 'B', 'C'],\n",
        "                   'data1': range(6),\n",
        "                   'data2': [10,11,10,9,10,10]})\n",
        "print(df)"
      ]
    },
    {
      "cell_type": "markdown",
      "metadata": {
        "id": "80WY94Yz2WA-"
      },
      "source": [
        "Dans Pandas, cette opération se fait en deux étapes.\n",
        "Nous allons d'abord créer un objet de type  DataFrameGroupBy  , que nous appelons  gb  :\n"
      ]
    },
    {
      "cell_type": "code",
      "execution_count": null,
      "metadata": {
        "id": "kONpfNs82WA-"
      },
      "outputs": [],
      "source": [
        "gb = df.groupby('key')\n"
      ]
    },
    {
      "cell_type": "markdown",
      "metadata": {
        "id": "Sb736HBY2WA-"
      },
      "source": [
        "La (les) colonne(s) données dans groupby s'appelle(nt) l' (les) attribut(s) de partitionnement.\n",
        "\n",
        "Sur cet objet gb, on peut ensuite appliquer les fonctions d'agrégation :\n"
      ]
    },
    {
      "cell_type": "code",
      "execution_count": null,
      "metadata": {
        "id": "fUsS5QBA2WA-"
      },
      "outputs": [],
      "source": [
        "print(gb.sum())\n",
        "print(gb.mean())"
      ]
    },
    {
      "cell_type": "markdown",
      "metadata": {
        "id": "tHktQ5cg2WA-"
      },
      "source": [
        "## Exercice 2"
      ]
    },
    {
      "cell_type": "code",
      "execution_count": 3,
      "metadata": {
        "id": "aAQTXqLE2WA-",
        "colab": {
          "base_uri": "https://localhost:8080/",
          "height": 206
        },
        "outputId": "05b1f18f-b0f8-4397-cd64-c16af855a032"
      },
      "outputs": [
        {
          "output_type": "execute_result",
          "data": {
            "text/plain": [
              "      Mois  Annee  PrixM2  PrixM2Maisons  PrixM2Appartements  PrixM2Terrains\n",
              "0  Janvier   2015    3339           3331                3347             307\n",
              "1  Fevrier   2015    3198           3518                3479             350\n",
              "2     Mars   2015    2942           2913                2972             292\n",
              "3    Avril   2015    2945           3163                2728             314\n",
              "4      Mai   2015    3282           3193                3371             405"
            ],
            "text/html": [
              "\n",
              "  <div id=\"df-8ab5ce25-9930-45a4-9dbd-d27cc5826463\" class=\"colab-df-container\">\n",
              "    <div>\n",
              "<style scoped>\n",
              "    .dataframe tbody tr th:only-of-type {\n",
              "        vertical-align: middle;\n",
              "    }\n",
              "\n",
              "    .dataframe tbody tr th {\n",
              "        vertical-align: top;\n",
              "    }\n",
              "\n",
              "    .dataframe thead th {\n",
              "        text-align: right;\n",
              "    }\n",
              "</style>\n",
              "<table border=\"1\" class=\"dataframe\">\n",
              "  <thead>\n",
              "    <tr style=\"text-align: right;\">\n",
              "      <th></th>\n",
              "      <th>Mois</th>\n",
              "      <th>Annee</th>\n",
              "      <th>PrixM2</th>\n",
              "      <th>PrixM2Maisons</th>\n",
              "      <th>PrixM2Appartements</th>\n",
              "      <th>PrixM2Terrains</th>\n",
              "    </tr>\n",
              "  </thead>\n",
              "  <tbody>\n",
              "    <tr>\n",
              "      <th>0</th>\n",
              "      <td>Janvier</td>\n",
              "      <td>2015</td>\n",
              "      <td>3339</td>\n",
              "      <td>3331</td>\n",
              "      <td>3347</td>\n",
              "      <td>307</td>\n",
              "    </tr>\n",
              "    <tr>\n",
              "      <th>1</th>\n",
              "      <td>Fevrier</td>\n",
              "      <td>2015</td>\n",
              "      <td>3198</td>\n",
              "      <td>3518</td>\n",
              "      <td>3479</td>\n",
              "      <td>350</td>\n",
              "    </tr>\n",
              "    <tr>\n",
              "      <th>2</th>\n",
              "      <td>Mars</td>\n",
              "      <td>2015</td>\n",
              "      <td>2942</td>\n",
              "      <td>2913</td>\n",
              "      <td>2972</td>\n",
              "      <td>292</td>\n",
              "    </tr>\n",
              "    <tr>\n",
              "      <th>3</th>\n",
              "      <td>Avril</td>\n",
              "      <td>2015</td>\n",
              "      <td>2945</td>\n",
              "      <td>3163</td>\n",
              "      <td>2728</td>\n",
              "      <td>314</td>\n",
              "    </tr>\n",
              "    <tr>\n",
              "      <th>4</th>\n",
              "      <td>Mai</td>\n",
              "      <td>2015</td>\n",
              "      <td>3282</td>\n",
              "      <td>3193</td>\n",
              "      <td>3371</td>\n",
              "      <td>405</td>\n",
              "    </tr>\n",
              "  </tbody>\n",
              "</table>\n",
              "</div>\n",
              "    <div class=\"colab-df-buttons\">\n",
              "\n",
              "  <div class=\"colab-df-container\">\n",
              "    <button class=\"colab-df-convert\" onclick=\"convertToInteractive('df-8ab5ce25-9930-45a4-9dbd-d27cc5826463')\"\n",
              "            title=\"Convert this dataframe to an interactive table.\"\n",
              "            style=\"display:none;\">\n",
              "\n",
              "  <svg xmlns=\"http://www.w3.org/2000/svg\" height=\"24px\" viewBox=\"0 -960 960 960\">\n",
              "    <path d=\"M120-120v-720h720v720H120Zm60-500h600v-160H180v160Zm220 220h160v-160H400v160Zm0 220h160v-160H400v160ZM180-400h160v-160H180v160Zm440 0h160v-160H620v160ZM180-180h160v-160H180v160Zm440 0h160v-160H620v160Z\"/>\n",
              "  </svg>\n",
              "    </button>\n",
              "\n",
              "  <style>\n",
              "    .colab-df-container {\n",
              "      display:flex;\n",
              "      gap: 12px;\n",
              "    }\n",
              "\n",
              "    .colab-df-convert {\n",
              "      background-color: #E8F0FE;\n",
              "      border: none;\n",
              "      border-radius: 50%;\n",
              "      cursor: pointer;\n",
              "      display: none;\n",
              "      fill: #1967D2;\n",
              "      height: 32px;\n",
              "      padding: 0 0 0 0;\n",
              "      width: 32px;\n",
              "    }\n",
              "\n",
              "    .colab-df-convert:hover {\n",
              "      background-color: #E2EBFA;\n",
              "      box-shadow: 0px 1px 2px rgba(60, 64, 67, 0.3), 0px 1px 3px 1px rgba(60, 64, 67, 0.15);\n",
              "      fill: #174EA6;\n",
              "    }\n",
              "\n",
              "    .colab-df-buttons div {\n",
              "      margin-bottom: 4px;\n",
              "    }\n",
              "\n",
              "    [theme=dark] .colab-df-convert {\n",
              "      background-color: #3B4455;\n",
              "      fill: #D2E3FC;\n",
              "    }\n",
              "\n",
              "    [theme=dark] .colab-df-convert:hover {\n",
              "      background-color: #434B5C;\n",
              "      box-shadow: 0px 1px 3px 1px rgba(0, 0, 0, 0.15);\n",
              "      filter: drop-shadow(0px 1px 2px rgba(0, 0, 0, 0.3));\n",
              "      fill: #FFFFFF;\n",
              "    }\n",
              "  </style>\n",
              "\n",
              "    <script>\n",
              "      const buttonEl =\n",
              "        document.querySelector('#df-8ab5ce25-9930-45a4-9dbd-d27cc5826463 button.colab-df-convert');\n",
              "      buttonEl.style.display =\n",
              "        google.colab.kernel.accessAllowed ? 'block' : 'none';\n",
              "\n",
              "      async function convertToInteractive(key) {\n",
              "        const element = document.querySelector('#df-8ab5ce25-9930-45a4-9dbd-d27cc5826463');\n",
              "        const dataTable =\n",
              "          await google.colab.kernel.invokeFunction('convertToInteractive',\n",
              "                                                    [key], {});\n",
              "        if (!dataTable) return;\n",
              "\n",
              "        const docLinkHtml = 'Like what you see? Visit the ' +\n",
              "          '<a target=\"_blank\" href=https://colab.research.google.com/notebooks/data_table.ipynb>data table notebook</a>'\n",
              "          + ' to learn more about interactive tables.';\n",
              "        element.innerHTML = '';\n",
              "        dataTable['output_type'] = 'display_data';\n",
              "        await google.colab.output.renderOutput(dataTable, element);\n",
              "        const docLink = document.createElement('div');\n",
              "        docLink.innerHTML = docLinkHtml;\n",
              "        element.appendChild(docLink);\n",
              "      }\n",
              "    </script>\n",
              "  </div>\n",
              "\n",
              "\n",
              "<div id=\"df-7ac9ddee-3b4b-4db6-b00e-4d7b13c46352\">\n",
              "  <button class=\"colab-df-quickchart\" onclick=\"quickchart('df-7ac9ddee-3b4b-4db6-b00e-4d7b13c46352')\"\n",
              "            title=\"Suggest charts\"\n",
              "            style=\"display:none;\">\n",
              "\n",
              "<svg xmlns=\"http://www.w3.org/2000/svg\" height=\"24px\"viewBox=\"0 0 24 24\"\n",
              "     width=\"24px\">\n",
              "    <g>\n",
              "        <path d=\"M19 3H5c-1.1 0-2 .9-2 2v14c0 1.1.9 2 2 2h14c1.1 0 2-.9 2-2V5c0-1.1-.9-2-2-2zM9 17H7v-7h2v7zm4 0h-2V7h2v10zm4 0h-2v-4h2v4z\"/>\n",
              "    </g>\n",
              "</svg>\n",
              "  </button>\n",
              "\n",
              "<style>\n",
              "  .colab-df-quickchart {\n",
              "      --bg-color: #E8F0FE;\n",
              "      --fill-color: #1967D2;\n",
              "      --hover-bg-color: #E2EBFA;\n",
              "      --hover-fill-color: #174EA6;\n",
              "      --disabled-fill-color: #AAA;\n",
              "      --disabled-bg-color: #DDD;\n",
              "  }\n",
              "\n",
              "  [theme=dark] .colab-df-quickchart {\n",
              "      --bg-color: #3B4455;\n",
              "      --fill-color: #D2E3FC;\n",
              "      --hover-bg-color: #434B5C;\n",
              "      --hover-fill-color: #FFFFFF;\n",
              "      --disabled-bg-color: #3B4455;\n",
              "      --disabled-fill-color: #666;\n",
              "  }\n",
              "\n",
              "  .colab-df-quickchart {\n",
              "    background-color: var(--bg-color);\n",
              "    border: none;\n",
              "    border-radius: 50%;\n",
              "    cursor: pointer;\n",
              "    display: none;\n",
              "    fill: var(--fill-color);\n",
              "    height: 32px;\n",
              "    padding: 0;\n",
              "    width: 32px;\n",
              "  }\n",
              "\n",
              "  .colab-df-quickchart:hover {\n",
              "    background-color: var(--hover-bg-color);\n",
              "    box-shadow: 0 1px 2px rgba(60, 64, 67, 0.3), 0 1px 3px 1px rgba(60, 64, 67, 0.15);\n",
              "    fill: var(--button-hover-fill-color);\n",
              "  }\n",
              "\n",
              "  .colab-df-quickchart-complete:disabled,\n",
              "  .colab-df-quickchart-complete:disabled:hover {\n",
              "    background-color: var(--disabled-bg-color);\n",
              "    fill: var(--disabled-fill-color);\n",
              "    box-shadow: none;\n",
              "  }\n",
              "\n",
              "  .colab-df-spinner {\n",
              "    border: 2px solid var(--fill-color);\n",
              "    border-color: transparent;\n",
              "    border-bottom-color: var(--fill-color);\n",
              "    animation:\n",
              "      spin 1s steps(1) infinite;\n",
              "  }\n",
              "\n",
              "  @keyframes spin {\n",
              "    0% {\n",
              "      border-color: transparent;\n",
              "      border-bottom-color: var(--fill-color);\n",
              "      border-left-color: var(--fill-color);\n",
              "    }\n",
              "    20% {\n",
              "      border-color: transparent;\n",
              "      border-left-color: var(--fill-color);\n",
              "      border-top-color: var(--fill-color);\n",
              "    }\n",
              "    30% {\n",
              "      border-color: transparent;\n",
              "      border-left-color: var(--fill-color);\n",
              "      border-top-color: var(--fill-color);\n",
              "      border-right-color: var(--fill-color);\n",
              "    }\n",
              "    40% {\n",
              "      border-color: transparent;\n",
              "      border-right-color: var(--fill-color);\n",
              "      border-top-color: var(--fill-color);\n",
              "    }\n",
              "    60% {\n",
              "      border-color: transparent;\n",
              "      border-right-color: var(--fill-color);\n",
              "    }\n",
              "    80% {\n",
              "      border-color: transparent;\n",
              "      border-right-color: var(--fill-color);\n",
              "      border-bottom-color: var(--fill-color);\n",
              "    }\n",
              "    90% {\n",
              "      border-color: transparent;\n",
              "      border-bottom-color: var(--fill-color);\n",
              "    }\n",
              "  }\n",
              "</style>\n",
              "\n",
              "  <script>\n",
              "    async function quickchart(key) {\n",
              "      const quickchartButtonEl =\n",
              "        document.querySelector('#' + key + ' button');\n",
              "      quickchartButtonEl.disabled = true;  // To prevent multiple clicks.\n",
              "      quickchartButtonEl.classList.add('colab-df-spinner');\n",
              "      try {\n",
              "        const charts = await google.colab.kernel.invokeFunction(\n",
              "            'suggestCharts', [key], {});\n",
              "      } catch (error) {\n",
              "        console.error('Error during call to suggestCharts:', error);\n",
              "      }\n",
              "      quickchartButtonEl.classList.remove('colab-df-spinner');\n",
              "      quickchartButtonEl.classList.add('colab-df-quickchart-complete');\n",
              "    }\n",
              "    (() => {\n",
              "      let quickchartButtonEl =\n",
              "        document.querySelector('#df-7ac9ddee-3b4b-4db6-b00e-4d7b13c46352 button');\n",
              "      quickchartButtonEl.style.display =\n",
              "        google.colab.kernel.accessAllowed ? 'block' : 'none';\n",
              "    })();\n",
              "  </script>\n",
              "</div>\n",
              "    </div>\n",
              "  </div>\n"
            ]
          },
          "metadata": {},
          "execution_count": 3
        }
      ],
      "source": [
        "# Import des données\n",
        "import pandas as pd\n",
        "df = pd.read_csv(\"Immobilier.csv\", sep=\";\")\n",
        "df.head()"
      ]
    },
    {
      "cell_type": "markdown",
      "metadata": {
        "id": "V7dT0R-e2WA-"
      },
      "source": [
        "<span style=\"color:blue\"> QUESTION : Trouver le nombre de lignes et colonnes de cette table (utiliser shape)</span>\n"
      ]
    },
    {
      "cell_type": "code",
      "execution_count": 6,
      "metadata": {
        "id": "Dj3SwrSp2WA-",
        "colab": {
          "base_uri": "https://localhost:8080/"
        },
        "outputId": "35669e03-8ca5-4598-ff97-8323527b254e"
      },
      "outputs": [
        {
          "output_type": "stream",
          "name": "stdout",
          "text": [
            "Nombre de lignes : 84\n",
            "Nombre de colonnes : 6\n"
          ]
        }
      ],
      "source": [
        "nb_lignes, nb_colonnes = df.shape\n",
        "print(\"Nombre de lignes :\", nb_lignes)\n",
        "print(\"Nombre de colonnes :\", nb_colonnes)"
      ]
    },
    {
      "cell_type": "markdown",
      "metadata": {
        "id": "axhz1XVg2WA_"
      },
      "source": [
        "<span style=\"color:blue\"> QUESTION : Lister les noms des colonnes (utiliser columns) </span>\n"
      ]
    },
    {
      "cell_type": "code",
      "execution_count": 33,
      "metadata": {
        "id": "vp3uFFU52WA_",
        "colab": {
          "base_uri": "https://localhost:8080/"
        },
        "outputId": "3563abac-1e0e-4980-f892-05948a41b185"
      },
      "outputs": [
        {
          "output_type": "execute_result",
          "data": {
            "text/plain": [
              "['Mois',\n",
              " 'Annee',\n",
              " 'PrixM2',\n",
              " 'PrixM2Maisons',\n",
              " 'PrixM2Appartements',\n",
              " 'PrixM2Terrains']"
            ]
          },
          "metadata": {},
          "execution_count": 33
        }
      ],
      "source": [
        "df.columns.tolist()"
      ]
    },
    {
      "cell_type": "markdown",
      "metadata": {
        "id": "DsFZx-0c2WA_"
      },
      "source": [
        "<span style=\"color:blue\"> QUESTION : Quels sont les types des données dans les colonnes? (utiliser dtype)</span>\n"
      ]
    },
    {
      "cell_type": "code",
      "execution_count": 31,
      "metadata": {
        "id": "7Xr4ywZf2WA_",
        "colab": {
          "base_uri": "https://localhost:8080/"
        },
        "outputId": "8c3ba201-8289-4c94-d1a6-0245903c0157"
      },
      "outputs": [
        {
          "output_type": "stream",
          "name": "stdout",
          "text": [
            "Mois                  object\n",
            "Annee                  int64\n",
            "PrixM2                 int64\n",
            "PrixM2Maisons          int64\n",
            "PrixM2Appartements     int64\n",
            "PrixM2Terrains         int64\n",
            "dtype: object\n"
          ]
        }
      ],
      "source": [
        "mes_data = df.dtypes\n",
        "print(mes_data)"
      ]
    },
    {
      "cell_type": "markdown",
      "metadata": {
        "id": "rI1jKIPr2WA_"
      },
      "source": [
        "<span style=\"color:blue\"> QUESTION : Trouver des infos sur chaque colonne (utiliser info)</span>\n"
      ]
    },
    {
      "cell_type": "code",
      "execution_count": 29,
      "metadata": {
        "id": "NUFk3lqc2WA_",
        "colab": {
          "base_uri": "https://localhost:8080/"
        },
        "outputId": "26eaed26-24fa-4f01-a180-c436fa8fb328"
      },
      "outputs": [
        {
          "output_type": "stream",
          "name": "stdout",
          "text": [
            "<class 'pandas.core.frame.DataFrame'>\n",
            "RangeIndex: 84 entries, 0 to 83\n",
            "Data columns (total 6 columns):\n",
            " #   Column              Non-Null Count  Dtype \n",
            "---  ------              --------------  ----- \n",
            " 0   Mois                84 non-null     object\n",
            " 1   Annee               84 non-null     int64 \n",
            " 2   PrixM2              84 non-null     int64 \n",
            " 3   PrixM2Maisons       84 non-null     int64 \n",
            " 4   PrixM2Appartements  84 non-null     int64 \n",
            " 5   PrixM2Terrains      84 non-null     int64 \n",
            "dtypes: int64(5), object(1)\n",
            "memory usage: 4.1+ KB\n"
          ]
        }
      ],
      "source": [
        "df.info()"
      ]
    },
    {
      "cell_type": "markdown",
      "metadata": {
        "id": "92T4AkRw2WA_"
      },
      "source": [
        "<span style=\"color:blue\"> QUESTION : Afficher la colonne mois</span>\n"
      ]
    },
    {
      "cell_type": "code",
      "execution_count": 25,
      "metadata": {
        "id": "vCBOoFP02WA_",
        "colab": {
          "base_uri": "https://localhost:8080/"
        },
        "outputId": "07a82563-4a6f-43be-e79e-d7effc4db5db"
      },
      "outputs": [
        {
          "output_type": "execute_result",
          "data": {
            "text/plain": [
              "0       Janvier\n",
              "1       Fevrier\n",
              "2          Mars\n",
              "3         Avril\n",
              "4           Mai\n",
              "        ...    \n",
              "79         Août\n",
              "80    Septembre\n",
              "81      Octobre\n",
              "82     Novembre\n",
              "83     Décembre\n",
              "Name: Mois, Length: 84, dtype: object"
            ]
          },
          "metadata": {},
          "execution_count": 25
        }
      ],
      "source": [
        "df['Mois']"
      ]
    },
    {
      "cell_type": "markdown",
      "metadata": {
        "id": "SC5ouYM62WA_"
      },
      "source": [
        "<span style=\"color:blue\"> QUESTION : Afficher la colonne mois et la colonne année</span>\n"
      ]
    },
    {
      "cell_type": "code",
      "execution_count": null,
      "metadata": {
        "id": "pjTRKvpp2WA_"
      },
      "outputs": [],
      "source": [
        "# Version structurée\n",
        "\n",
        "df[['Mois', 'Annee']]"
      ]
    },
    {
      "cell_type": "markdown",
      "metadata": {
        "id": "GsQzHOW72WA_"
      },
      "source": [
        "<span style=\"color:blue\"> QUESTION : Afficher les caractéristiques de la colonne PrixM2 (utiliser describe) </span>\n"
      ]
    },
    {
      "cell_type": "code",
      "execution_count": 52,
      "metadata": {
        "id": "xpJ2ttSr2WA_",
        "colab": {
          "base_uri": "https://localhost:8080/"
        },
        "outputId": "6fc6e120-9beb-4392-ebe4-a87d4dc6f764"
      },
      "outputs": [
        {
          "output_type": "execute_result",
          "data": {
            "text/plain": [
              "<bound method NDFrame.describe of 0     3339\n",
              "1     3198\n",
              "2     2942\n",
              "3     2945\n",
              "4     3282\n",
              "      ... \n",
              "79    3024\n",
              "80    3024\n",
              "81    3024\n",
              "82    3024\n",
              "83    3024\n",
              "Name: PrixM2, Length: 84, dtype: int64>"
            ]
          },
          "metadata": {},
          "execution_count": 52
        }
      ],
      "source": [
        "df['PrixM2'].describe"
      ]
    },
    {
      "cell_type": "markdown",
      "metadata": {
        "id": "im_Fdp-N2WBA"
      },
      "source": [
        "<span style=\"color:blue\"> QUESTION : Lister les périodes (Annee+Mois), après 2014, pour lesquelles le prix au mettre carré est supérieur 3110</span>\n"
      ]
    },
    {
      "cell_type": "code",
      "execution_count": 74,
      "metadata": {
        "id": "Vmq36FOM2WBA",
        "colab": {
          "base_uri": "https://localhost:8080/"
        },
        "outputId": "54083d54-384d-4740-986c-fd1af27ce9bc"
      },
      "outputs": [
        {
          "output_type": "stream",
          "name": "stdout",
          "text": [
            "         Mois   Annee\n",
            "0     Janvier  2015.0\n",
            "1     Fevrier  2015.0\n",
            "4         Mai  2015.0\n",
            "5        Juin  2015.0\n",
            "6     Juillet  2015.0\n",
            "7        Août  2015.0\n",
            "8   Septembre  2015.0\n",
            "9     Octobre  2015.0\n",
            "10   Novembre  2015.0\n",
            "11   Décembre  2015.0\n"
          ]
        }
      ],
      "source": [
        "dm = df[['Mois', 'Annee']].where((df['PrixM2'] > 3110) & (df['Annee'] > 2014)).dropna()\n",
        "print(dm)"
      ]
    },
    {
      "cell_type": "markdown",
      "metadata": {
        "id": "zpIrAkuz2WBA"
      },
      "source": [
        "<span style=\"color:blue\"> QUESTION : Dans cette liste, compter le nombre de mois par année</span>\n"
      ]
    },
    {
      "cell_type": "code",
      "execution_count": 79,
      "metadata": {
        "id": "HOwZzpxX2WBA",
        "colab": {
          "base_uri": "https://localhost:8080/"
        },
        "outputId": "8ad36c50-e9df-43f0-8c62-2a8f07dd9a46"
      },
      "outputs": [
        {
          "output_type": "execute_result",
          "data": {
            "text/plain": [
              "Annee\n",
              "2015.0    10\n",
              "Name: Mois, dtype: int64"
            ]
          },
          "metadata": {},
          "execution_count": 79
        }
      ],
      "source": [
        "dm.groupby('Annee')['Mois'].count()"
      ]
    },
    {
      "cell_type": "markdown",
      "metadata": {
        "id": "ElHcG-Nx2WBA"
      },
      "source": [
        "<span style=\"color:blue\"> QUESTION : Dans cette liste, compter le nombre de mois concernés par mois</span>\n"
      ]
    },
    {
      "cell_type": "code",
      "execution_count": 82,
      "metadata": {
        "id": "kwdZ8tZo2WBA",
        "colab": {
          "base_uri": "https://localhost:8080/"
        },
        "outputId": "bd77d16d-f60f-47cd-dcd3-014c6e10511b"
      },
      "outputs": [
        {
          "output_type": "execute_result",
          "data": {
            "text/plain": [
              "Mois\n",
              "Août         1\n",
              "Décembre     1\n",
              "Fevrier      1\n",
              "Janvier      1\n",
              "Juillet      1\n",
              "Juin         1\n",
              "Mai          1\n",
              "Novembre     1\n",
              "Octobre      1\n",
              "Septembre    1\n",
              "Name: Annee, dtype: int64"
            ]
          },
          "metadata": {},
          "execution_count": 82
        }
      ],
      "source": [
        "dm.groupby('Mois')['Annee'].count()"
      ]
    },
    {
      "cell_type": "markdown",
      "metadata": {
        "id": "sgjHgFQu2WBA"
      },
      "source": [
        "<span style=\"color:blue\"> QUESTION : A partir de la liste initiale, afficher les informations pour les mois de juillet de chaque année</span>\n"
      ]
    },
    {
      "cell_type": "code",
      "execution_count": 83,
      "metadata": {
        "id": "L1oc2ZJ42WBA",
        "colab": {
          "base_uri": "https://localhost:8080/",
          "height": 269
        },
        "outputId": "e0173884-ca5d-4ba6-d009-64de0b7737ec"
      },
      "outputs": [
        {
          "output_type": "execute_result",
          "data": {
            "text/plain": [
              "       Mois   Annee  PrixM2  PrixM2Maisons  PrixM2Appartements  PrixM2Terrains\n",
              "6   Juillet  2015.0  3222.0         3237.0              3208.0          1103.0\n",
              "18  Juillet  2014.0  3247.0         3180.0              3314.0           629.0\n",
              "30  Juillet  2013.0  3258.0         3308.0              3209.0           431.0\n",
              "42  Juillet  2012.0  2936.0         2889.0              2984.0           407.0\n",
              "54  Juillet  2011.0  3070.0         3217.0              2924.0           665.0\n",
              "66  Juillet  2010.0  2973.0         3105.0              2841.0           149.0\n",
              "78  Juillet  2009.0  2917.0         2925.0              2909.0           463.0"
            ],
            "text/html": [
              "\n",
              "  <div id=\"df-62f27ab8-9184-4c31-b236-0c67263d4b8a\" class=\"colab-df-container\">\n",
              "    <div>\n",
              "<style scoped>\n",
              "    .dataframe tbody tr th:only-of-type {\n",
              "        vertical-align: middle;\n",
              "    }\n",
              "\n",
              "    .dataframe tbody tr th {\n",
              "        vertical-align: top;\n",
              "    }\n",
              "\n",
              "    .dataframe thead th {\n",
              "        text-align: right;\n",
              "    }\n",
              "</style>\n",
              "<table border=\"1\" class=\"dataframe\">\n",
              "  <thead>\n",
              "    <tr style=\"text-align: right;\">\n",
              "      <th></th>\n",
              "      <th>Mois</th>\n",
              "      <th>Annee</th>\n",
              "      <th>PrixM2</th>\n",
              "      <th>PrixM2Maisons</th>\n",
              "      <th>PrixM2Appartements</th>\n",
              "      <th>PrixM2Terrains</th>\n",
              "    </tr>\n",
              "  </thead>\n",
              "  <tbody>\n",
              "    <tr>\n",
              "      <th>6</th>\n",
              "      <td>Juillet</td>\n",
              "      <td>2015.0</td>\n",
              "      <td>3222.0</td>\n",
              "      <td>3237.0</td>\n",
              "      <td>3208.0</td>\n",
              "      <td>1103.0</td>\n",
              "    </tr>\n",
              "    <tr>\n",
              "      <th>18</th>\n",
              "      <td>Juillet</td>\n",
              "      <td>2014.0</td>\n",
              "      <td>3247.0</td>\n",
              "      <td>3180.0</td>\n",
              "      <td>3314.0</td>\n",
              "      <td>629.0</td>\n",
              "    </tr>\n",
              "    <tr>\n",
              "      <th>30</th>\n",
              "      <td>Juillet</td>\n",
              "      <td>2013.0</td>\n",
              "      <td>3258.0</td>\n",
              "      <td>3308.0</td>\n",
              "      <td>3209.0</td>\n",
              "      <td>431.0</td>\n",
              "    </tr>\n",
              "    <tr>\n",
              "      <th>42</th>\n",
              "      <td>Juillet</td>\n",
              "      <td>2012.0</td>\n",
              "      <td>2936.0</td>\n",
              "      <td>2889.0</td>\n",
              "      <td>2984.0</td>\n",
              "      <td>407.0</td>\n",
              "    </tr>\n",
              "    <tr>\n",
              "      <th>54</th>\n",
              "      <td>Juillet</td>\n",
              "      <td>2011.0</td>\n",
              "      <td>3070.0</td>\n",
              "      <td>3217.0</td>\n",
              "      <td>2924.0</td>\n",
              "      <td>665.0</td>\n",
              "    </tr>\n",
              "    <tr>\n",
              "      <th>66</th>\n",
              "      <td>Juillet</td>\n",
              "      <td>2010.0</td>\n",
              "      <td>2973.0</td>\n",
              "      <td>3105.0</td>\n",
              "      <td>2841.0</td>\n",
              "      <td>149.0</td>\n",
              "    </tr>\n",
              "    <tr>\n",
              "      <th>78</th>\n",
              "      <td>Juillet</td>\n",
              "      <td>2009.0</td>\n",
              "      <td>2917.0</td>\n",
              "      <td>2925.0</td>\n",
              "      <td>2909.0</td>\n",
              "      <td>463.0</td>\n",
              "    </tr>\n",
              "  </tbody>\n",
              "</table>\n",
              "</div>\n",
              "    <div class=\"colab-df-buttons\">\n",
              "\n",
              "  <div class=\"colab-df-container\">\n",
              "    <button class=\"colab-df-convert\" onclick=\"convertToInteractive('df-62f27ab8-9184-4c31-b236-0c67263d4b8a')\"\n",
              "            title=\"Convert this dataframe to an interactive table.\"\n",
              "            style=\"display:none;\">\n",
              "\n",
              "  <svg xmlns=\"http://www.w3.org/2000/svg\" height=\"24px\" viewBox=\"0 -960 960 960\">\n",
              "    <path d=\"M120-120v-720h720v720H120Zm60-500h600v-160H180v160Zm220 220h160v-160H400v160Zm0 220h160v-160H400v160ZM180-400h160v-160H180v160Zm440 0h160v-160H620v160ZM180-180h160v-160H180v160Zm440 0h160v-160H620v160Z\"/>\n",
              "  </svg>\n",
              "    </button>\n",
              "\n",
              "  <style>\n",
              "    .colab-df-container {\n",
              "      display:flex;\n",
              "      gap: 12px;\n",
              "    }\n",
              "\n",
              "    .colab-df-convert {\n",
              "      background-color: #E8F0FE;\n",
              "      border: none;\n",
              "      border-radius: 50%;\n",
              "      cursor: pointer;\n",
              "      display: none;\n",
              "      fill: #1967D2;\n",
              "      height: 32px;\n",
              "      padding: 0 0 0 0;\n",
              "      width: 32px;\n",
              "    }\n",
              "\n",
              "    .colab-df-convert:hover {\n",
              "      background-color: #E2EBFA;\n",
              "      box-shadow: 0px 1px 2px rgba(60, 64, 67, 0.3), 0px 1px 3px 1px rgba(60, 64, 67, 0.15);\n",
              "      fill: #174EA6;\n",
              "    }\n",
              "\n",
              "    .colab-df-buttons div {\n",
              "      margin-bottom: 4px;\n",
              "    }\n",
              "\n",
              "    [theme=dark] .colab-df-convert {\n",
              "      background-color: #3B4455;\n",
              "      fill: #D2E3FC;\n",
              "    }\n",
              "\n",
              "    [theme=dark] .colab-df-convert:hover {\n",
              "      background-color: #434B5C;\n",
              "      box-shadow: 0px 1px 3px 1px rgba(0, 0, 0, 0.15);\n",
              "      filter: drop-shadow(0px 1px 2px rgba(0, 0, 0, 0.3));\n",
              "      fill: #FFFFFF;\n",
              "    }\n",
              "  </style>\n",
              "\n",
              "    <script>\n",
              "      const buttonEl =\n",
              "        document.querySelector('#df-62f27ab8-9184-4c31-b236-0c67263d4b8a button.colab-df-convert');\n",
              "      buttonEl.style.display =\n",
              "        google.colab.kernel.accessAllowed ? 'block' : 'none';\n",
              "\n",
              "      async function convertToInteractive(key) {\n",
              "        const element = document.querySelector('#df-62f27ab8-9184-4c31-b236-0c67263d4b8a');\n",
              "        const dataTable =\n",
              "          await google.colab.kernel.invokeFunction('convertToInteractive',\n",
              "                                                    [key], {});\n",
              "        if (!dataTable) return;\n",
              "\n",
              "        const docLinkHtml = 'Like what you see? Visit the ' +\n",
              "          '<a target=\"_blank\" href=https://colab.research.google.com/notebooks/data_table.ipynb>data table notebook</a>'\n",
              "          + ' to learn more about interactive tables.';\n",
              "        element.innerHTML = '';\n",
              "        dataTable['output_type'] = 'display_data';\n",
              "        await google.colab.output.renderOutput(dataTable, element);\n",
              "        const docLink = document.createElement('div');\n",
              "        docLink.innerHTML = docLinkHtml;\n",
              "        element.appendChild(docLink);\n",
              "      }\n",
              "    </script>\n",
              "  </div>\n",
              "\n",
              "\n",
              "<div id=\"df-02abf19f-cc93-45c2-9643-ba37d2d2fe7e\">\n",
              "  <button class=\"colab-df-quickchart\" onclick=\"quickchart('df-02abf19f-cc93-45c2-9643-ba37d2d2fe7e')\"\n",
              "            title=\"Suggest charts\"\n",
              "            style=\"display:none;\">\n",
              "\n",
              "<svg xmlns=\"http://www.w3.org/2000/svg\" height=\"24px\"viewBox=\"0 0 24 24\"\n",
              "     width=\"24px\">\n",
              "    <g>\n",
              "        <path d=\"M19 3H5c-1.1 0-2 .9-2 2v14c0 1.1.9 2 2 2h14c1.1 0 2-.9 2-2V5c0-1.1-.9-2-2-2zM9 17H7v-7h2v7zm4 0h-2V7h2v10zm4 0h-2v-4h2v4z\"/>\n",
              "    </g>\n",
              "</svg>\n",
              "  </button>\n",
              "\n",
              "<style>\n",
              "  .colab-df-quickchart {\n",
              "      --bg-color: #E8F0FE;\n",
              "      --fill-color: #1967D2;\n",
              "      --hover-bg-color: #E2EBFA;\n",
              "      --hover-fill-color: #174EA6;\n",
              "      --disabled-fill-color: #AAA;\n",
              "      --disabled-bg-color: #DDD;\n",
              "  }\n",
              "\n",
              "  [theme=dark] .colab-df-quickchart {\n",
              "      --bg-color: #3B4455;\n",
              "      --fill-color: #D2E3FC;\n",
              "      --hover-bg-color: #434B5C;\n",
              "      --hover-fill-color: #FFFFFF;\n",
              "      --disabled-bg-color: #3B4455;\n",
              "      --disabled-fill-color: #666;\n",
              "  }\n",
              "\n",
              "  .colab-df-quickchart {\n",
              "    background-color: var(--bg-color);\n",
              "    border: none;\n",
              "    border-radius: 50%;\n",
              "    cursor: pointer;\n",
              "    display: none;\n",
              "    fill: var(--fill-color);\n",
              "    height: 32px;\n",
              "    padding: 0;\n",
              "    width: 32px;\n",
              "  }\n",
              "\n",
              "  .colab-df-quickchart:hover {\n",
              "    background-color: var(--hover-bg-color);\n",
              "    box-shadow: 0 1px 2px rgba(60, 64, 67, 0.3), 0 1px 3px 1px rgba(60, 64, 67, 0.15);\n",
              "    fill: var(--button-hover-fill-color);\n",
              "  }\n",
              "\n",
              "  .colab-df-quickchart-complete:disabled,\n",
              "  .colab-df-quickchart-complete:disabled:hover {\n",
              "    background-color: var(--disabled-bg-color);\n",
              "    fill: var(--disabled-fill-color);\n",
              "    box-shadow: none;\n",
              "  }\n",
              "\n",
              "  .colab-df-spinner {\n",
              "    border: 2px solid var(--fill-color);\n",
              "    border-color: transparent;\n",
              "    border-bottom-color: var(--fill-color);\n",
              "    animation:\n",
              "      spin 1s steps(1) infinite;\n",
              "  }\n",
              "\n",
              "  @keyframes spin {\n",
              "    0% {\n",
              "      border-color: transparent;\n",
              "      border-bottom-color: var(--fill-color);\n",
              "      border-left-color: var(--fill-color);\n",
              "    }\n",
              "    20% {\n",
              "      border-color: transparent;\n",
              "      border-left-color: var(--fill-color);\n",
              "      border-top-color: var(--fill-color);\n",
              "    }\n",
              "    30% {\n",
              "      border-color: transparent;\n",
              "      border-left-color: var(--fill-color);\n",
              "      border-top-color: var(--fill-color);\n",
              "      border-right-color: var(--fill-color);\n",
              "    }\n",
              "    40% {\n",
              "      border-color: transparent;\n",
              "      border-right-color: var(--fill-color);\n",
              "      border-top-color: var(--fill-color);\n",
              "    }\n",
              "    60% {\n",
              "      border-color: transparent;\n",
              "      border-right-color: var(--fill-color);\n",
              "    }\n",
              "    80% {\n",
              "      border-color: transparent;\n",
              "      border-right-color: var(--fill-color);\n",
              "      border-bottom-color: var(--fill-color);\n",
              "    }\n",
              "    90% {\n",
              "      border-color: transparent;\n",
              "      border-bottom-color: var(--fill-color);\n",
              "    }\n",
              "  }\n",
              "</style>\n",
              "\n",
              "  <script>\n",
              "    async function quickchart(key) {\n",
              "      const quickchartButtonEl =\n",
              "        document.querySelector('#' + key + ' button');\n",
              "      quickchartButtonEl.disabled = true;  // To prevent multiple clicks.\n",
              "      quickchartButtonEl.classList.add('colab-df-spinner');\n",
              "      try {\n",
              "        const charts = await google.colab.kernel.invokeFunction(\n",
              "            'suggestCharts', [key], {});\n",
              "      } catch (error) {\n",
              "        console.error('Error during call to suggestCharts:', error);\n",
              "      }\n",
              "      quickchartButtonEl.classList.remove('colab-df-spinner');\n",
              "      quickchartButtonEl.classList.add('colab-df-quickchart-complete');\n",
              "    }\n",
              "    (() => {\n",
              "      let quickchartButtonEl =\n",
              "        document.querySelector('#df-02abf19f-cc93-45c2-9643-ba37d2d2fe7e button');\n",
              "      quickchartButtonEl.style.display =\n",
              "        google.colab.kernel.accessAllowed ? 'block' : 'none';\n",
              "    })();\n",
              "  </script>\n",
              "</div>\n",
              "    </div>\n",
              "  </div>\n"
            ]
          },
          "metadata": {},
          "execution_count": 83
        }
      ],
      "source": [
        "df.where(df['Mois'] == \"Juillet\").dropna()"
      ]
    },
    {
      "cell_type": "markdown",
      "metadata": {
        "id": "SkbFy-ig2WBA"
      },
      "source": [
        "<span style=\"color:blue\"> QUESTION : Par mois, afficher le Prix au M2 moyen</span>\n"
      ]
    },
    {
      "cell_type": "code",
      "execution_count": 86,
      "metadata": {
        "id": "Gmmc6ZZb2WBA",
        "colab": {
          "base_uri": "https://localhost:8080/",
          "height": 488
        },
        "outputId": "afb73a7b-2103-4b19-f915-1983a55e7e71"
      },
      "outputs": [
        {
          "output_type": "execute_result",
          "data": {
            "text/plain": [
              "            Annee       PrixM2  PrixM2Maisons  PrixM2Appartements  \\\n",
              "Mois                                                                \n",
              "Août       2012.0  3141.428571    3140.142857         3143.285714   \n",
              "Avril      2012.0  3115.428571    3167.714286         3057.857143   \n",
              "Décembre   2012.0  3096.285714    3129.428571         3063.571429   \n",
              "Fevrier    2015.0  3198.000000    3518.000000         3479.000000   \n",
              "Février    2011.5  3070.166667    3098.833333         3041.833333   \n",
              "Janvier    2012.0  3120.571429    3135.571429         3106.000000   \n",
              "Juillet    2012.0  3089.000000    3123.000000         3055.571429   \n",
              "Juin       2012.0  3158.142857    3243.428571         3073.142857   \n",
              "Mai        2012.0  3131.000000    3181.285714         3080.857143   \n",
              "Mars       2012.0  3058.000000    3071.428571         3045.142857   \n",
              "Novembre   2012.0  3066.571429    3058.000000         3075.714286   \n",
              "Octobre    2012.0  3141.142857    3186.000000         3071.857143   \n",
              "Septembre  2012.0  3114.714286    3130.142857         3199.571429   \n",
              "\n",
              "           PrixM2Terrains  \n",
              "Mois                       \n",
              "Août           761.000000  \n",
              "Avril          431.714286  \n",
              "Décembre       666.142857  \n",
              "Fevrier        350.000000  \n",
              "Février       1111.500000  \n",
              "Janvier        545.142857  \n",
              "Juillet        549.571429  \n",
              "Juin           536.571429  \n",
              "Mai            482.142857  \n",
              "Mars           457.857143  \n",
              "Novembre       775.000000  \n",
              "Octobre        549.857143  \n",
              "Septembre      526.142857  "
            ],
            "text/html": [
              "\n",
              "  <div id=\"df-21df0606-a947-4288-b5bd-cc68faed619b\" class=\"colab-df-container\">\n",
              "    <div>\n",
              "<style scoped>\n",
              "    .dataframe tbody tr th:only-of-type {\n",
              "        vertical-align: middle;\n",
              "    }\n",
              "\n",
              "    .dataframe tbody tr th {\n",
              "        vertical-align: top;\n",
              "    }\n",
              "\n",
              "    .dataframe thead th {\n",
              "        text-align: right;\n",
              "    }\n",
              "</style>\n",
              "<table border=\"1\" class=\"dataframe\">\n",
              "  <thead>\n",
              "    <tr style=\"text-align: right;\">\n",
              "      <th></th>\n",
              "      <th>Annee</th>\n",
              "      <th>PrixM2</th>\n",
              "      <th>PrixM2Maisons</th>\n",
              "      <th>PrixM2Appartements</th>\n",
              "      <th>PrixM2Terrains</th>\n",
              "    </tr>\n",
              "    <tr>\n",
              "      <th>Mois</th>\n",
              "      <th></th>\n",
              "      <th></th>\n",
              "      <th></th>\n",
              "      <th></th>\n",
              "      <th></th>\n",
              "    </tr>\n",
              "  </thead>\n",
              "  <tbody>\n",
              "    <tr>\n",
              "      <th>Août</th>\n",
              "      <td>2012.0</td>\n",
              "      <td>3141.428571</td>\n",
              "      <td>3140.142857</td>\n",
              "      <td>3143.285714</td>\n",
              "      <td>761.000000</td>\n",
              "    </tr>\n",
              "    <tr>\n",
              "      <th>Avril</th>\n",
              "      <td>2012.0</td>\n",
              "      <td>3115.428571</td>\n",
              "      <td>3167.714286</td>\n",
              "      <td>3057.857143</td>\n",
              "      <td>431.714286</td>\n",
              "    </tr>\n",
              "    <tr>\n",
              "      <th>Décembre</th>\n",
              "      <td>2012.0</td>\n",
              "      <td>3096.285714</td>\n",
              "      <td>3129.428571</td>\n",
              "      <td>3063.571429</td>\n",
              "      <td>666.142857</td>\n",
              "    </tr>\n",
              "    <tr>\n",
              "      <th>Fevrier</th>\n",
              "      <td>2015.0</td>\n",
              "      <td>3198.000000</td>\n",
              "      <td>3518.000000</td>\n",
              "      <td>3479.000000</td>\n",
              "      <td>350.000000</td>\n",
              "    </tr>\n",
              "    <tr>\n",
              "      <th>Février</th>\n",
              "      <td>2011.5</td>\n",
              "      <td>3070.166667</td>\n",
              "      <td>3098.833333</td>\n",
              "      <td>3041.833333</td>\n",
              "      <td>1111.500000</td>\n",
              "    </tr>\n",
              "    <tr>\n",
              "      <th>Janvier</th>\n",
              "      <td>2012.0</td>\n",
              "      <td>3120.571429</td>\n",
              "      <td>3135.571429</td>\n",
              "      <td>3106.000000</td>\n",
              "      <td>545.142857</td>\n",
              "    </tr>\n",
              "    <tr>\n",
              "      <th>Juillet</th>\n",
              "      <td>2012.0</td>\n",
              "      <td>3089.000000</td>\n",
              "      <td>3123.000000</td>\n",
              "      <td>3055.571429</td>\n",
              "      <td>549.571429</td>\n",
              "    </tr>\n",
              "    <tr>\n",
              "      <th>Juin</th>\n",
              "      <td>2012.0</td>\n",
              "      <td>3158.142857</td>\n",
              "      <td>3243.428571</td>\n",
              "      <td>3073.142857</td>\n",
              "      <td>536.571429</td>\n",
              "    </tr>\n",
              "    <tr>\n",
              "      <th>Mai</th>\n",
              "      <td>2012.0</td>\n",
              "      <td>3131.000000</td>\n",
              "      <td>3181.285714</td>\n",
              "      <td>3080.857143</td>\n",
              "      <td>482.142857</td>\n",
              "    </tr>\n",
              "    <tr>\n",
              "      <th>Mars</th>\n",
              "      <td>2012.0</td>\n",
              "      <td>3058.000000</td>\n",
              "      <td>3071.428571</td>\n",
              "      <td>3045.142857</td>\n",
              "      <td>457.857143</td>\n",
              "    </tr>\n",
              "    <tr>\n",
              "      <th>Novembre</th>\n",
              "      <td>2012.0</td>\n",
              "      <td>3066.571429</td>\n",
              "      <td>3058.000000</td>\n",
              "      <td>3075.714286</td>\n",
              "      <td>775.000000</td>\n",
              "    </tr>\n",
              "    <tr>\n",
              "      <th>Octobre</th>\n",
              "      <td>2012.0</td>\n",
              "      <td>3141.142857</td>\n",
              "      <td>3186.000000</td>\n",
              "      <td>3071.857143</td>\n",
              "      <td>549.857143</td>\n",
              "    </tr>\n",
              "    <tr>\n",
              "      <th>Septembre</th>\n",
              "      <td>2012.0</td>\n",
              "      <td>3114.714286</td>\n",
              "      <td>3130.142857</td>\n",
              "      <td>3199.571429</td>\n",
              "      <td>526.142857</td>\n",
              "    </tr>\n",
              "  </tbody>\n",
              "</table>\n",
              "</div>\n",
              "    <div class=\"colab-df-buttons\">\n",
              "\n",
              "  <div class=\"colab-df-container\">\n",
              "    <button class=\"colab-df-convert\" onclick=\"convertToInteractive('df-21df0606-a947-4288-b5bd-cc68faed619b')\"\n",
              "            title=\"Convert this dataframe to an interactive table.\"\n",
              "            style=\"display:none;\">\n",
              "\n",
              "  <svg xmlns=\"http://www.w3.org/2000/svg\" height=\"24px\" viewBox=\"0 -960 960 960\">\n",
              "    <path d=\"M120-120v-720h720v720H120Zm60-500h600v-160H180v160Zm220 220h160v-160H400v160Zm0 220h160v-160H400v160ZM180-400h160v-160H180v160Zm440 0h160v-160H620v160ZM180-180h160v-160H180v160Zm440 0h160v-160H620v160Z\"/>\n",
              "  </svg>\n",
              "    </button>\n",
              "\n",
              "  <style>\n",
              "    .colab-df-container {\n",
              "      display:flex;\n",
              "      gap: 12px;\n",
              "    }\n",
              "\n",
              "    .colab-df-convert {\n",
              "      background-color: #E8F0FE;\n",
              "      border: none;\n",
              "      border-radius: 50%;\n",
              "      cursor: pointer;\n",
              "      display: none;\n",
              "      fill: #1967D2;\n",
              "      height: 32px;\n",
              "      padding: 0 0 0 0;\n",
              "      width: 32px;\n",
              "    }\n",
              "\n",
              "    .colab-df-convert:hover {\n",
              "      background-color: #E2EBFA;\n",
              "      box-shadow: 0px 1px 2px rgba(60, 64, 67, 0.3), 0px 1px 3px 1px rgba(60, 64, 67, 0.15);\n",
              "      fill: #174EA6;\n",
              "    }\n",
              "\n",
              "    .colab-df-buttons div {\n",
              "      margin-bottom: 4px;\n",
              "    }\n",
              "\n",
              "    [theme=dark] .colab-df-convert {\n",
              "      background-color: #3B4455;\n",
              "      fill: #D2E3FC;\n",
              "    }\n",
              "\n",
              "    [theme=dark] .colab-df-convert:hover {\n",
              "      background-color: #434B5C;\n",
              "      box-shadow: 0px 1px 3px 1px rgba(0, 0, 0, 0.15);\n",
              "      filter: drop-shadow(0px 1px 2px rgba(0, 0, 0, 0.3));\n",
              "      fill: #FFFFFF;\n",
              "    }\n",
              "  </style>\n",
              "\n",
              "    <script>\n",
              "      const buttonEl =\n",
              "        document.querySelector('#df-21df0606-a947-4288-b5bd-cc68faed619b button.colab-df-convert');\n",
              "      buttonEl.style.display =\n",
              "        google.colab.kernel.accessAllowed ? 'block' : 'none';\n",
              "\n",
              "      async function convertToInteractive(key) {\n",
              "        const element = document.querySelector('#df-21df0606-a947-4288-b5bd-cc68faed619b');\n",
              "        const dataTable =\n",
              "          await google.colab.kernel.invokeFunction('convertToInteractive',\n",
              "                                                    [key], {});\n",
              "        if (!dataTable) return;\n",
              "\n",
              "        const docLinkHtml = 'Like what you see? Visit the ' +\n",
              "          '<a target=\"_blank\" href=https://colab.research.google.com/notebooks/data_table.ipynb>data table notebook</a>'\n",
              "          + ' to learn more about interactive tables.';\n",
              "        element.innerHTML = '';\n",
              "        dataTable['output_type'] = 'display_data';\n",
              "        await google.colab.output.renderOutput(dataTable, element);\n",
              "        const docLink = document.createElement('div');\n",
              "        docLink.innerHTML = docLinkHtml;\n",
              "        element.appendChild(docLink);\n",
              "      }\n",
              "    </script>\n",
              "  </div>\n",
              "\n",
              "\n",
              "<div id=\"df-19647cce-a4eb-4340-8b4f-14074d67ede6\">\n",
              "  <button class=\"colab-df-quickchart\" onclick=\"quickchart('df-19647cce-a4eb-4340-8b4f-14074d67ede6')\"\n",
              "            title=\"Suggest charts\"\n",
              "            style=\"display:none;\">\n",
              "\n",
              "<svg xmlns=\"http://www.w3.org/2000/svg\" height=\"24px\"viewBox=\"0 0 24 24\"\n",
              "     width=\"24px\">\n",
              "    <g>\n",
              "        <path d=\"M19 3H5c-1.1 0-2 .9-2 2v14c0 1.1.9 2 2 2h14c1.1 0 2-.9 2-2V5c0-1.1-.9-2-2-2zM9 17H7v-7h2v7zm4 0h-2V7h2v10zm4 0h-2v-4h2v4z\"/>\n",
              "    </g>\n",
              "</svg>\n",
              "  </button>\n",
              "\n",
              "<style>\n",
              "  .colab-df-quickchart {\n",
              "      --bg-color: #E8F0FE;\n",
              "      --fill-color: #1967D2;\n",
              "      --hover-bg-color: #E2EBFA;\n",
              "      --hover-fill-color: #174EA6;\n",
              "      --disabled-fill-color: #AAA;\n",
              "      --disabled-bg-color: #DDD;\n",
              "  }\n",
              "\n",
              "  [theme=dark] .colab-df-quickchart {\n",
              "      --bg-color: #3B4455;\n",
              "      --fill-color: #D2E3FC;\n",
              "      --hover-bg-color: #434B5C;\n",
              "      --hover-fill-color: #FFFFFF;\n",
              "      --disabled-bg-color: #3B4455;\n",
              "      --disabled-fill-color: #666;\n",
              "  }\n",
              "\n",
              "  .colab-df-quickchart {\n",
              "    background-color: var(--bg-color);\n",
              "    border: none;\n",
              "    border-radius: 50%;\n",
              "    cursor: pointer;\n",
              "    display: none;\n",
              "    fill: var(--fill-color);\n",
              "    height: 32px;\n",
              "    padding: 0;\n",
              "    width: 32px;\n",
              "  }\n",
              "\n",
              "  .colab-df-quickchart:hover {\n",
              "    background-color: var(--hover-bg-color);\n",
              "    box-shadow: 0 1px 2px rgba(60, 64, 67, 0.3), 0 1px 3px 1px rgba(60, 64, 67, 0.15);\n",
              "    fill: var(--button-hover-fill-color);\n",
              "  }\n",
              "\n",
              "  .colab-df-quickchart-complete:disabled,\n",
              "  .colab-df-quickchart-complete:disabled:hover {\n",
              "    background-color: var(--disabled-bg-color);\n",
              "    fill: var(--disabled-fill-color);\n",
              "    box-shadow: none;\n",
              "  }\n",
              "\n",
              "  .colab-df-spinner {\n",
              "    border: 2px solid var(--fill-color);\n",
              "    border-color: transparent;\n",
              "    border-bottom-color: var(--fill-color);\n",
              "    animation:\n",
              "      spin 1s steps(1) infinite;\n",
              "  }\n",
              "\n",
              "  @keyframes spin {\n",
              "    0% {\n",
              "      border-color: transparent;\n",
              "      border-bottom-color: var(--fill-color);\n",
              "      border-left-color: var(--fill-color);\n",
              "    }\n",
              "    20% {\n",
              "      border-color: transparent;\n",
              "      border-left-color: var(--fill-color);\n",
              "      border-top-color: var(--fill-color);\n",
              "    }\n",
              "    30% {\n",
              "      border-color: transparent;\n",
              "      border-left-color: var(--fill-color);\n",
              "      border-top-color: var(--fill-color);\n",
              "      border-right-color: var(--fill-color);\n",
              "    }\n",
              "    40% {\n",
              "      border-color: transparent;\n",
              "      border-right-color: var(--fill-color);\n",
              "      border-top-color: var(--fill-color);\n",
              "    }\n",
              "    60% {\n",
              "      border-color: transparent;\n",
              "      border-right-color: var(--fill-color);\n",
              "    }\n",
              "    80% {\n",
              "      border-color: transparent;\n",
              "      border-right-color: var(--fill-color);\n",
              "      border-bottom-color: var(--fill-color);\n",
              "    }\n",
              "    90% {\n",
              "      border-color: transparent;\n",
              "      border-bottom-color: var(--fill-color);\n",
              "    }\n",
              "  }\n",
              "</style>\n",
              "\n",
              "  <script>\n",
              "    async function quickchart(key) {\n",
              "      const quickchartButtonEl =\n",
              "        document.querySelector('#' + key + ' button');\n",
              "      quickchartButtonEl.disabled = true;  // To prevent multiple clicks.\n",
              "      quickchartButtonEl.classList.add('colab-df-spinner');\n",
              "      try {\n",
              "        const charts = await google.colab.kernel.invokeFunction(\n",
              "            'suggestCharts', [key], {});\n",
              "      } catch (error) {\n",
              "        console.error('Error during call to suggestCharts:', error);\n",
              "      }\n",
              "      quickchartButtonEl.classList.remove('colab-df-spinner');\n",
              "      quickchartButtonEl.classList.add('colab-df-quickchart-complete');\n",
              "    }\n",
              "    (() => {\n",
              "      let quickchartButtonEl =\n",
              "        document.querySelector('#df-19647cce-a4eb-4340-8b4f-14074d67ede6 button');\n",
              "      quickchartButtonEl.style.display =\n",
              "        google.colab.kernel.accessAllowed ? 'block' : 'none';\n",
              "    })();\n",
              "  </script>\n",
              "</div>\n",
              "    </div>\n",
              "  </div>\n"
            ]
          },
          "metadata": {},
          "execution_count": 86
        }
      ],
      "source": [
        "df.groupby('Mois').mean('PrixM2')\n"
      ]
    },
    {
      "cell_type": "markdown",
      "metadata": {
        "id": "Inilt5UX2WBA"
      },
      "source": [
        "<span style=\"color:blue\"> QUESTION : Dans le tableau initial, trier les données selon la colonne PrixM2</span>\n"
      ]
    },
    {
      "cell_type": "code",
      "execution_count": 93,
      "metadata": {
        "id": "NFrAoOon2WBA",
        "colab": {
          "base_uri": "https://localhost:8080/",
          "height": 424
        },
        "outputId": "eea739d2-204f-458e-98fd-396e5b7dc7f7"
      },
      "outputs": [
        {
          "output_type": "execute_result",
          "data": {
            "text/plain": [
              "        Mois  Annee  PrixM2  PrixM2Maisons  PrixM2Appartements  PrixM2Terrains\n",
              "46  Novembre   2012    2880           2913                2847             417\n",
              "62      Mars   2010    2886           2996                2777             465\n",
              "78   Juillet   2009    2917           2925                2909             463\n",
              "65      Juin   2010    2927           3064                2791             665\n",
              "48   Janvier   2011    2929           2990                2869             479\n",
              "..       ...    ...     ...            ...                 ...             ...\n",
              "11  Décembre   2015    3262           3179                3345             950\n",
              "4        Mai   2015    3282           3193                3371             405\n",
              "0    Janvier   2015    3339           3331                3347             307\n",
              "51     Avril   2011    3370           3341                3360             421\n",
              "77      Juin   2009    3422           3750                3095             421\n",
              "\n",
              "[84 rows x 6 columns]"
            ],
            "text/html": [
              "\n",
              "  <div id=\"df-1a2a7540-557a-4591-a73e-fa40e10a28cb\" class=\"colab-df-container\">\n",
              "    <div>\n",
              "<style scoped>\n",
              "    .dataframe tbody tr th:only-of-type {\n",
              "        vertical-align: middle;\n",
              "    }\n",
              "\n",
              "    .dataframe tbody tr th {\n",
              "        vertical-align: top;\n",
              "    }\n",
              "\n",
              "    .dataframe thead th {\n",
              "        text-align: right;\n",
              "    }\n",
              "</style>\n",
              "<table border=\"1\" class=\"dataframe\">\n",
              "  <thead>\n",
              "    <tr style=\"text-align: right;\">\n",
              "      <th></th>\n",
              "      <th>Mois</th>\n",
              "      <th>Annee</th>\n",
              "      <th>PrixM2</th>\n",
              "      <th>PrixM2Maisons</th>\n",
              "      <th>PrixM2Appartements</th>\n",
              "      <th>PrixM2Terrains</th>\n",
              "    </tr>\n",
              "  </thead>\n",
              "  <tbody>\n",
              "    <tr>\n",
              "      <th>46</th>\n",
              "      <td>Novembre</td>\n",
              "      <td>2012</td>\n",
              "      <td>2880</td>\n",
              "      <td>2913</td>\n",
              "      <td>2847</td>\n",
              "      <td>417</td>\n",
              "    </tr>\n",
              "    <tr>\n",
              "      <th>62</th>\n",
              "      <td>Mars</td>\n",
              "      <td>2010</td>\n",
              "      <td>2886</td>\n",
              "      <td>2996</td>\n",
              "      <td>2777</td>\n",
              "      <td>465</td>\n",
              "    </tr>\n",
              "    <tr>\n",
              "      <th>78</th>\n",
              "      <td>Juillet</td>\n",
              "      <td>2009</td>\n",
              "      <td>2917</td>\n",
              "      <td>2925</td>\n",
              "      <td>2909</td>\n",
              "      <td>463</td>\n",
              "    </tr>\n",
              "    <tr>\n",
              "      <th>65</th>\n",
              "      <td>Juin</td>\n",
              "      <td>2010</td>\n",
              "      <td>2927</td>\n",
              "      <td>3064</td>\n",
              "      <td>2791</td>\n",
              "      <td>665</td>\n",
              "    </tr>\n",
              "    <tr>\n",
              "      <th>48</th>\n",
              "      <td>Janvier</td>\n",
              "      <td>2011</td>\n",
              "      <td>2929</td>\n",
              "      <td>2990</td>\n",
              "      <td>2869</td>\n",
              "      <td>479</td>\n",
              "    </tr>\n",
              "    <tr>\n",
              "      <th>...</th>\n",
              "      <td>...</td>\n",
              "      <td>...</td>\n",
              "      <td>...</td>\n",
              "      <td>...</td>\n",
              "      <td>...</td>\n",
              "      <td>...</td>\n",
              "    </tr>\n",
              "    <tr>\n",
              "      <th>11</th>\n",
              "      <td>Décembre</td>\n",
              "      <td>2015</td>\n",
              "      <td>3262</td>\n",
              "      <td>3179</td>\n",
              "      <td>3345</td>\n",
              "      <td>950</td>\n",
              "    </tr>\n",
              "    <tr>\n",
              "      <th>4</th>\n",
              "      <td>Mai</td>\n",
              "      <td>2015</td>\n",
              "      <td>3282</td>\n",
              "      <td>3193</td>\n",
              "      <td>3371</td>\n",
              "      <td>405</td>\n",
              "    </tr>\n",
              "    <tr>\n",
              "      <th>0</th>\n",
              "      <td>Janvier</td>\n",
              "      <td>2015</td>\n",
              "      <td>3339</td>\n",
              "      <td>3331</td>\n",
              "      <td>3347</td>\n",
              "      <td>307</td>\n",
              "    </tr>\n",
              "    <tr>\n",
              "      <th>51</th>\n",
              "      <td>Avril</td>\n",
              "      <td>2011</td>\n",
              "      <td>3370</td>\n",
              "      <td>3341</td>\n",
              "      <td>3360</td>\n",
              "      <td>421</td>\n",
              "    </tr>\n",
              "    <tr>\n",
              "      <th>77</th>\n",
              "      <td>Juin</td>\n",
              "      <td>2009</td>\n",
              "      <td>3422</td>\n",
              "      <td>3750</td>\n",
              "      <td>3095</td>\n",
              "      <td>421</td>\n",
              "    </tr>\n",
              "  </tbody>\n",
              "</table>\n",
              "<p>84 rows × 6 columns</p>\n",
              "</div>\n",
              "    <div class=\"colab-df-buttons\">\n",
              "\n",
              "  <div class=\"colab-df-container\">\n",
              "    <button class=\"colab-df-convert\" onclick=\"convertToInteractive('df-1a2a7540-557a-4591-a73e-fa40e10a28cb')\"\n",
              "            title=\"Convert this dataframe to an interactive table.\"\n",
              "            style=\"display:none;\">\n",
              "\n",
              "  <svg xmlns=\"http://www.w3.org/2000/svg\" height=\"24px\" viewBox=\"0 -960 960 960\">\n",
              "    <path d=\"M120-120v-720h720v720H120Zm60-500h600v-160H180v160Zm220 220h160v-160H400v160Zm0 220h160v-160H400v160ZM180-400h160v-160H180v160Zm440 0h160v-160H620v160ZM180-180h160v-160H180v160Zm440 0h160v-160H620v160Z\"/>\n",
              "  </svg>\n",
              "    </button>\n",
              "\n",
              "  <style>\n",
              "    .colab-df-container {\n",
              "      display:flex;\n",
              "      gap: 12px;\n",
              "    }\n",
              "\n",
              "    .colab-df-convert {\n",
              "      background-color: #E8F0FE;\n",
              "      border: none;\n",
              "      border-radius: 50%;\n",
              "      cursor: pointer;\n",
              "      display: none;\n",
              "      fill: #1967D2;\n",
              "      height: 32px;\n",
              "      padding: 0 0 0 0;\n",
              "      width: 32px;\n",
              "    }\n",
              "\n",
              "    .colab-df-convert:hover {\n",
              "      background-color: #E2EBFA;\n",
              "      box-shadow: 0px 1px 2px rgba(60, 64, 67, 0.3), 0px 1px 3px 1px rgba(60, 64, 67, 0.15);\n",
              "      fill: #174EA6;\n",
              "    }\n",
              "\n",
              "    .colab-df-buttons div {\n",
              "      margin-bottom: 4px;\n",
              "    }\n",
              "\n",
              "    [theme=dark] .colab-df-convert {\n",
              "      background-color: #3B4455;\n",
              "      fill: #D2E3FC;\n",
              "    }\n",
              "\n",
              "    [theme=dark] .colab-df-convert:hover {\n",
              "      background-color: #434B5C;\n",
              "      box-shadow: 0px 1px 3px 1px rgba(0, 0, 0, 0.15);\n",
              "      filter: drop-shadow(0px 1px 2px rgba(0, 0, 0, 0.3));\n",
              "      fill: #FFFFFF;\n",
              "    }\n",
              "  </style>\n",
              "\n",
              "    <script>\n",
              "      const buttonEl =\n",
              "        document.querySelector('#df-1a2a7540-557a-4591-a73e-fa40e10a28cb button.colab-df-convert');\n",
              "      buttonEl.style.display =\n",
              "        google.colab.kernel.accessAllowed ? 'block' : 'none';\n",
              "\n",
              "      async function convertToInteractive(key) {\n",
              "        const element = document.querySelector('#df-1a2a7540-557a-4591-a73e-fa40e10a28cb');\n",
              "        const dataTable =\n",
              "          await google.colab.kernel.invokeFunction('convertToInteractive',\n",
              "                                                    [key], {});\n",
              "        if (!dataTable) return;\n",
              "\n",
              "        const docLinkHtml = 'Like what you see? Visit the ' +\n",
              "          '<a target=\"_blank\" href=https://colab.research.google.com/notebooks/data_table.ipynb>data table notebook</a>'\n",
              "          + ' to learn more about interactive tables.';\n",
              "        element.innerHTML = '';\n",
              "        dataTable['output_type'] = 'display_data';\n",
              "        await google.colab.output.renderOutput(dataTable, element);\n",
              "        const docLink = document.createElement('div');\n",
              "        docLink.innerHTML = docLinkHtml;\n",
              "        element.appendChild(docLink);\n",
              "      }\n",
              "    </script>\n",
              "  </div>\n",
              "\n",
              "\n",
              "<div id=\"df-4a8683d8-80ba-41c2-a56e-ee9bb42d3dec\">\n",
              "  <button class=\"colab-df-quickchart\" onclick=\"quickchart('df-4a8683d8-80ba-41c2-a56e-ee9bb42d3dec')\"\n",
              "            title=\"Suggest charts\"\n",
              "            style=\"display:none;\">\n",
              "\n",
              "<svg xmlns=\"http://www.w3.org/2000/svg\" height=\"24px\"viewBox=\"0 0 24 24\"\n",
              "     width=\"24px\">\n",
              "    <g>\n",
              "        <path d=\"M19 3H5c-1.1 0-2 .9-2 2v14c0 1.1.9 2 2 2h14c1.1 0 2-.9 2-2V5c0-1.1-.9-2-2-2zM9 17H7v-7h2v7zm4 0h-2V7h2v10zm4 0h-2v-4h2v4z\"/>\n",
              "    </g>\n",
              "</svg>\n",
              "  </button>\n",
              "\n",
              "<style>\n",
              "  .colab-df-quickchart {\n",
              "      --bg-color: #E8F0FE;\n",
              "      --fill-color: #1967D2;\n",
              "      --hover-bg-color: #E2EBFA;\n",
              "      --hover-fill-color: #174EA6;\n",
              "      --disabled-fill-color: #AAA;\n",
              "      --disabled-bg-color: #DDD;\n",
              "  }\n",
              "\n",
              "  [theme=dark] .colab-df-quickchart {\n",
              "      --bg-color: #3B4455;\n",
              "      --fill-color: #D2E3FC;\n",
              "      --hover-bg-color: #434B5C;\n",
              "      --hover-fill-color: #FFFFFF;\n",
              "      --disabled-bg-color: #3B4455;\n",
              "      --disabled-fill-color: #666;\n",
              "  }\n",
              "\n",
              "  .colab-df-quickchart {\n",
              "    background-color: var(--bg-color);\n",
              "    border: none;\n",
              "    border-radius: 50%;\n",
              "    cursor: pointer;\n",
              "    display: none;\n",
              "    fill: var(--fill-color);\n",
              "    height: 32px;\n",
              "    padding: 0;\n",
              "    width: 32px;\n",
              "  }\n",
              "\n",
              "  .colab-df-quickchart:hover {\n",
              "    background-color: var(--hover-bg-color);\n",
              "    box-shadow: 0 1px 2px rgba(60, 64, 67, 0.3), 0 1px 3px 1px rgba(60, 64, 67, 0.15);\n",
              "    fill: var(--button-hover-fill-color);\n",
              "  }\n",
              "\n",
              "  .colab-df-quickchart-complete:disabled,\n",
              "  .colab-df-quickchart-complete:disabled:hover {\n",
              "    background-color: var(--disabled-bg-color);\n",
              "    fill: var(--disabled-fill-color);\n",
              "    box-shadow: none;\n",
              "  }\n",
              "\n",
              "  .colab-df-spinner {\n",
              "    border: 2px solid var(--fill-color);\n",
              "    border-color: transparent;\n",
              "    border-bottom-color: var(--fill-color);\n",
              "    animation:\n",
              "      spin 1s steps(1) infinite;\n",
              "  }\n",
              "\n",
              "  @keyframes spin {\n",
              "    0% {\n",
              "      border-color: transparent;\n",
              "      border-bottom-color: var(--fill-color);\n",
              "      border-left-color: var(--fill-color);\n",
              "    }\n",
              "    20% {\n",
              "      border-color: transparent;\n",
              "      border-left-color: var(--fill-color);\n",
              "      border-top-color: var(--fill-color);\n",
              "    }\n",
              "    30% {\n",
              "      border-color: transparent;\n",
              "      border-left-color: var(--fill-color);\n",
              "      border-top-color: var(--fill-color);\n",
              "      border-right-color: var(--fill-color);\n",
              "    }\n",
              "    40% {\n",
              "      border-color: transparent;\n",
              "      border-right-color: var(--fill-color);\n",
              "      border-top-color: var(--fill-color);\n",
              "    }\n",
              "    60% {\n",
              "      border-color: transparent;\n",
              "      border-right-color: var(--fill-color);\n",
              "    }\n",
              "    80% {\n",
              "      border-color: transparent;\n",
              "      border-right-color: var(--fill-color);\n",
              "      border-bottom-color: var(--fill-color);\n",
              "    }\n",
              "    90% {\n",
              "      border-color: transparent;\n",
              "      border-bottom-color: var(--fill-color);\n",
              "    }\n",
              "  }\n",
              "</style>\n",
              "\n",
              "  <script>\n",
              "    async function quickchart(key) {\n",
              "      const quickchartButtonEl =\n",
              "        document.querySelector('#' + key + ' button');\n",
              "      quickchartButtonEl.disabled = true;  // To prevent multiple clicks.\n",
              "      quickchartButtonEl.classList.add('colab-df-spinner');\n",
              "      try {\n",
              "        const charts = await google.colab.kernel.invokeFunction(\n",
              "            'suggestCharts', [key], {});\n",
              "      } catch (error) {\n",
              "        console.error('Error during call to suggestCharts:', error);\n",
              "      }\n",
              "      quickchartButtonEl.classList.remove('colab-df-spinner');\n",
              "      quickchartButtonEl.classList.add('colab-df-quickchart-complete');\n",
              "    }\n",
              "    (() => {\n",
              "      let quickchartButtonEl =\n",
              "        document.querySelector('#df-4a8683d8-80ba-41c2-a56e-ee9bb42d3dec button');\n",
              "      quickchartButtonEl.style.display =\n",
              "        google.colab.kernel.accessAllowed ? 'block' : 'none';\n",
              "    })();\n",
              "  </script>\n",
              "</div>\n",
              "    </div>\n",
              "  </div>\n"
            ]
          },
          "metadata": {},
          "execution_count": 93
        }
      ],
      "source": [
        "df.sort_values(by='PrixM2')"
      ]
    },
    {
      "cell_type": "markdown",
      "metadata": {
        "id": "I2bq4nvI2WBA"
      },
      "source": [
        "<span style=\"color:blue\"> QUESTION : Trouver le prix M2 maximum</span>\n"
      ]
    },
    {
      "cell_type": "code",
      "execution_count": 97,
      "metadata": {
        "id": "5cGG3Ei_2WBA",
        "colab": {
          "base_uri": "https://localhost:8080/"
        },
        "outputId": "d34266e0-f97c-45d5-88a0-b23e0f53fbe6"
      },
      "outputs": [
        {
          "output_type": "execute_result",
          "data": {
            "text/plain": [
              "3422"
            ]
          },
          "metadata": {},
          "execution_count": 97
        }
      ],
      "source": [
        "df['PrixM2'].max()"
      ]
    },
    {
      "cell_type": "markdown",
      "metadata": {
        "id": "fSEUpVNu2WBB"
      },
      "source": [
        "<span style=\"color:blue\"> QUESTION : A quel mois ce prix maximum correspond il ?</span>\n"
      ]
    },
    {
      "cell_type": "code",
      "execution_count": 105,
      "metadata": {
        "id": "Lrdn0h2v2WBB",
        "colab": {
          "base_uri": "https://localhost:8080/",
          "height": 35
        },
        "outputId": "b752aaf3-48b8-45f0-b962-bd453bd64b31"
      },
      "outputs": [
        {
          "output_type": "execute_result",
          "data": {
            "text/plain": [
              "'Juin'"
            ],
            "application/vnd.google.colaboratory.intrinsic+json": {
              "type": "string"
            }
          },
          "metadata": {},
          "execution_count": 105
        }
      ],
      "source": [
        "df.loc[df['PrixM2'].idxmax(), 'Mois']"
      ]
    }
  ],
  "metadata": {
    "kernelspec": {
      "display_name": "Python 3",
      "language": "python",
      "name": "python3"
    },
    "language_info": {
      "codemirror_mode": {
        "name": "ipython",
        "version": 3
      },
      "file_extension": ".py",
      "mimetype": "text/x-python",
      "name": "python",
      "nbconvert_exporter": "python",
      "pygments_lexer": "ipython3",
      "version": "3.8.8"
    },
    "colab": {
      "provenance": [],
      "include_colab_link": true
    }
  },
  "nbformat": 4,
  "nbformat_minor": 0
}